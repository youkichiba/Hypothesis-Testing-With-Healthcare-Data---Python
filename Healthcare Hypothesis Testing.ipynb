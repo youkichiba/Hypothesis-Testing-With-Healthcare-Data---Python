{
 "cells": [
  {
   "cell_type": "markdown",
   "id": "a16832a2",
   "metadata": {},
   "source": [
    "# Hypothesis Testing With Healthcare Data"
   ]
  },
  {
   "cell_type": "markdown",
   "id": "74cf8d83",
   "metadata": {},
   "source": [
    "The columns in the dataset are:\n",
    "\n",
    "**sex**\tThe gender of the individual\n",
    "**age**\tThe age of the individual\n",
    "**week**\tThe week of the drug testing\n",
    "**trx**\tThe treatment (Drug) and control (Placebo) groups\n",
    "**wbc**\tThe count of white blood cells\n",
    "**rbc**\tThe count of red blood cells\n",
    "**adverse_effects**\tThe presence of at least a single adverse effect\n",
    "**num_effects**\tThe number of adverse effects experienced by a single individual"
   ]
  },
  {
   "cell_type": "markdown",
   "id": "cd0da07e",
   "metadata": {},
   "source": [
    "# Goal Of The Project"
   ]
  },
  {
   "cell_type": "markdown",
   "id": "55dfd710",
   "metadata": {},
   "source": [
    "Determine if the proportion of adverse effects differs significantly between the Drug and Placebo groups, saving the p-value as a variable called two_sample_p_value\n",
    "\n",
    "Find out if the number of adverse effects is independent of the treatment and control groups, saving as a variable called num_effects_p_value containing a p-value\n",
    "\n",
    "Examine if there is a significant difference between the ages of the Drug and Placebo groups, storing the p-value of your test in a variable called age_group_effects_p_value"
   ]
  },
  {
   "cell_type": "code",
   "execution_count": 1,
   "id": "b35459f3",
   "metadata": {},
   "outputs": [],
   "source": [
    "# Importing packages\n",
    "import numpy as np\n",
    "import pandas as pd\n",
    "from statsmodels.stats.proportion import proportions_ztest\n",
    "import pingouin\n",
    "import seaborn as sns\n",
    "import matplotlib.pyplot as plt"
   ]
  },
  {
   "cell_type": "markdown",
   "id": "e9f28144",
   "metadata": {},
   "source": [
    "# two_sample_p_value"
   ]
  },
  {
   "cell_type": "code",
   "execution_count": 2,
   "id": "b9800d5b",
   "metadata": {},
   "outputs": [
    {
     "name": "stdout",
     "output_type": "stream",
     "text": [
      "0.9639333330262475\n"
     ]
    }
   ],
   "source": [
    "# Loading the dataset\n",
    "file_path = \"C:\\\\Users\\\\cyuck\\\\Downloads\\\\DATA ANALYSIS\\\\drug_safety.csv\"\n",
    "drug_safety = pd.read_csv(file_path)\n",
    "\n",
    "# Counting the adverse_effects column values for each trx group\n",
    "adv_eff_by_trx = drug_safety.groupby(\"trx\").adverse_effects.value_counts()\n",
    "\n",
    "# Computing total rows in each group\n",
    "adv_eff_by_trx_totals = adv_eff_by_trx.groupby(\"trx\").sum()\n",
    "\n",
    "# Creating an array of the \"Yes\" counts for each group\n",
    "yeses = [adv_eff_by_trx[\"Drug\"][\"Yes\"], adv_eff_by_trx[\"Placebo\"][\"Yes\"]]\n",
    "\n",
    "# Creating an array of the total number of rows in each group\n",
    "n = [adv_eff_by_trx_totals[\"Drug\"], adv_eff_by_trx_totals[\"Placebo\"]]\n",
    "\n",
    "# Performing a two-sided z-test on the two proportions\n",
    "two_sample_results = proportions_ztest(yeses, n)\n",
    "\n",
    "# Storing the p-value\n",
    "two_sample_p_value = two_sample_results[1]\n",
    "\n",
    "print(two_sample_p_value)"
   ]
  },
  {
   "cell_type": "markdown",
   "id": "07ef6747",
   "metadata": {},
   "source": [
    "# num_effects_p_value"
   ]
  },
  {
   "cell_type": "code",
   "execution_count": 3,
   "id": "b7367c18",
   "metadata": {},
   "outputs": [
    {
     "name": "stdout",
     "output_type": "stream",
     "text": [
      "0.6150123339426765\n"
     ]
    },
    {
     "name": "stderr",
     "output_type": "stream",
     "text": [
      "C:\\Users\\cyuck\\anaconda3\\lib\\site-packages\\pingouin\\contingency.py:150: UserWarning: Low count on observed frequencies.\n",
      "  warnings.warn(\"Low count on {} frequencies.\".format(name))\n",
      "C:\\Users\\cyuck\\anaconda3\\lib\\site-packages\\pingouin\\contingency.py:150: UserWarning: Low count on expected frequencies.\n",
      "  warnings.warn(\"Low count on {} frequencies.\".format(name))\n"
     ]
    }
   ],
   "source": [
    "# Determining if num_effects and trx are independent\n",
    "num_effects_groups = pingouin.chi2_independence(\n",
    "    data=drug_safety, x=\"num_effects\", y=\"trx\")\n",
    "\n",
    "# Extracting the p-value\n",
    "num_effects_p_value = num_effects_groups[2][\"pval\"][0]\n",
    "\n",
    "print(num_effects_p_value)"
   ]
  },
  {
   "cell_type": "markdown",
   "id": "04498ec7",
   "metadata": {},
   "source": [
    "# age_group_effects_p_value"
   ]
  },
  {
   "cell_type": "markdown",
   "id": "75a61a79",
   "metadata": {},
   "source": [
    "Histogram and Normality test are used to choose between unpaired t-test and Wilcoxon-Mann-Whitney test"
   ]
  },
  {
   "cell_type": "code",
   "execution_count": 4,
   "id": "16d8b7ad",
   "metadata": {},
   "outputs": [
    {
     "name": "stderr",
     "output_type": "stream",
     "text": [
      "C:\\Users\\cyuck\\anaconda3\\lib\\site-packages\\scipy\\stats\\_morestats.py:1800: UserWarning: p-value may not be accurate for N > 5000.\n",
      "  warnings.warn(\"p-value may not be accurate for N > 5000.\")\n",
      "C:\\Users\\cyuck\\anaconda3\\lib\\site-packages\\scipy\\stats\\_morestats.py:1800: UserWarning: p-value may not be accurate for N > 5000.\n",
      "  warnings.warn(\"p-value may not be accurate for N > 5000.\")\n"
     ]
    },
    {
     "name": "stdout",
     "output_type": "stream",
     "text": [
      "                W          pval  normal\n",
      "trx                                    \n",
      "Drug     0.976785  2.189152e-38   False\n",
      "Placebo  0.975595  2.224950e-29   False\n"
     ]
    },
    {
     "data": {
      "image/png": "[encoded data removed]",
      "text/plain": [
       "<Figure size 640x480 with 1 Axes>"
      ]
     },
     "metadata": {},
     "output_type": "display_data"
    }
   ],
   "source": [
    "# histogram\n",
    "sns.histplot(data=drug_safety, x=\"age\", hue=\"trx\")\n",
    "\n",
    "# normality test\n",
    "# To choose between unpaired t-test and Wilcoxon-Mann-Whitney test\n",
    "normality = pingouin.normality(\n",
    "    data=drug_safety,\n",
    "    dv='age',\n",
    "    group='trx',\n",
    "    method='shapiro', \n",
    "    alpha=0.05) \n",
    "print(normality)"
   ]
  },
  {
   "cell_type": "code",
   "execution_count": 5,
   "id": "5272ff88",
   "metadata": {},
   "outputs": [
    {
     "name": "stdout",
     "output_type": "stream",
     "text": [
      "MWU    0.256963\n",
      "Name: p-val, dtype: float64\n"
     ]
    }
   ],
   "source": [
    "# Selecting the age of the Drug group\n",
    "age_trx = drug_safety.loc[drug_safety[\"trx\"] == \"Drug\", \"age\"]\n",
    "\n",
    "# Selecting the age of the Placebo group\n",
    "age_placebo = drug_safety.loc[drug_safety[\"trx\"] == \"Placebo\", \"age\"]\n",
    "\n",
    "# Data distribution is not normal\n",
    "# Therefore a two-sided Mann-Whitney U test is appropriate\n",
    "age_group_effects = pingouin.mwu(age_trx, age_placebo)\n",
    "\n",
    "# Extracting the p-value\n",
    "age_group_effects_p_value = age_group_effects[\"p-val\"]\n",
    "\n",
    "print(age_group_effects_p_value)"
   ]
  },
  {
   "cell_type": "markdown",
   "id": "47ebfaa0",
   "metadata": {},
   "source": [
    "# Conclusion"
   ]
  },
  {
   "cell_type": "markdown",
   "id": "5c91c9a7",
   "metadata": {},
   "source": [
    "Since the p value for all three tests returned as greater than .05 (alpha value), I fail to reject all three null hypotheses. \n",
    "\n",
    "This means \n",
    "\n",
    "1. There is not enough evidence to conclude the proportion of adverse effects signifcantly differ between the Drug and Placebo groups. \n",
    "2. There is not enough evidence to conclude that the number of adverse effects is dependent on the treatment and control groups.\n",
    "3. There is not enough evidence to conclude that there is a significant difference between between the ages of the Drug and Placebo groups"
   ]
  }
 ],
 "metadata": {
  "kernelspec": {
   "display_name": "Python 3 (ipykernel)",
   "language": "python",
   "name": "python3"
  },
  "language_info": {
   "codemirror_mode": {
    "name": "ipython",
    "version": 3
   },
   "file_extension": ".py",
   "mimetype": "text/x-python",
   "name": "python",
   "nbconvert_exporter": "python",
   "pygments_lexer": "ipython3",
   "version": "3.9.13"
  }
 },
 "nbformat": 4,
 "nbformat_minor": 5
}
